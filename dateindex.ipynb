{
 "cells": [
  {
   "cell_type": "code",
   "execution_count": 14,
   "metadata": {},
   "outputs": [
    {
     "data": {
      "text/html": [
       "<div>\n",
       "<style scoped>\n",
       "    .dataframe tbody tr th:only-of-type {\n",
       "        vertical-align: middle;\n",
       "    }\n",
       "\n",
       "    .dataframe tbody tr th {\n",
       "        vertical-align: top;\n",
       "    }\n",
       "\n",
       "    .dataframe thead th {\n",
       "        text-align: right;\n",
       "    }\n",
       "</style>\n",
       "<table border=\"1\" class=\"dataframe\">\n",
       "  <thead>\n",
       "    <tr style=\"text-align: right;\">\n",
       "      <th></th>\n",
       "      <th>Open</th>\n",
       "      <th>High</th>\n",
       "      <th>Low</th>\n",
       "      <th>Close</th>\n",
       "      <th>Adj Close</th>\n",
       "      <th>Volume</th>\n",
       "    </tr>\n",
       "    <tr>\n",
       "      <th>Date</th>\n",
       "      <th></th>\n",
       "      <th></th>\n",
       "      <th></th>\n",
       "      <th></th>\n",
       "      <th></th>\n",
       "      <th></th>\n",
       "    </tr>\n",
       "  </thead>\n",
       "  <tbody>\n",
       "    <tr>\n",
       "      <th>2019-02-22</th>\n",
       "      <td>171.580002</td>\n",
       "      <td>173.000000</td>\n",
       "      <td>171.380005</td>\n",
       "      <td>172.970001</td>\n",
       "      <td>172.970001</td>\n",
       "      <td>18913200</td>\n",
       "    </tr>\n",
       "    <tr>\n",
       "      <th>2019-02-25</th>\n",
       "      <td>174.160004</td>\n",
       "      <td>175.869995</td>\n",
       "      <td>173.949997</td>\n",
       "      <td>174.229996</td>\n",
       "      <td>174.229996</td>\n",
       "      <td>21873400</td>\n",
       "    </tr>\n",
       "    <tr>\n",
       "      <th>2019-02-26</th>\n",
       "      <td>173.710007</td>\n",
       "      <td>175.300003</td>\n",
       "      <td>173.169998</td>\n",
       "      <td>174.330002</td>\n",
       "      <td>174.330002</td>\n",
       "      <td>17070200</td>\n",
       "    </tr>\n",
       "    <tr>\n",
       "      <th>2019-02-27</th>\n",
       "      <td>173.210007</td>\n",
       "      <td>175.000000</td>\n",
       "      <td>172.729996</td>\n",
       "      <td>174.869995</td>\n",
       "      <td>174.869995</td>\n",
       "      <td>27835400</td>\n",
       "    </tr>\n",
       "    <tr>\n",
       "      <th>2019-02-28</th>\n",
       "      <td>174.320007</td>\n",
       "      <td>174.910004</td>\n",
       "      <td>172.919998</td>\n",
       "      <td>173.149994</td>\n",
       "      <td>173.149994</td>\n",
       "      <td>28215400</td>\n",
       "    </tr>\n",
       "  </tbody>\n",
       "</table>\n",
       "</div>"
      ],
      "text/plain": [
       "                  Open        High         Low       Close   Adj Close  \\\n",
       "Date                                                                     \n",
       "2019-02-22  171.580002  173.000000  171.380005  172.970001  172.970001   \n",
       "2019-02-25  174.160004  175.869995  173.949997  174.229996  174.229996   \n",
       "2019-02-26  173.710007  175.300003  173.169998  174.330002  174.330002   \n",
       "2019-02-27  173.210007  175.000000  172.729996  174.869995  174.869995   \n",
       "2019-02-28  174.320007  174.910004  172.919998  173.149994  173.149994   \n",
       "\n",
       "              Volume  \n",
       "Date                  \n",
       "2019-02-22  18913200  \n",
       "2019-02-25  21873400  \n",
       "2019-02-26  17070200  \n",
       "2019-02-27  27835400  \n",
       "2019-02-28  28215400  "
      ]
     },
     "execution_count": 14,
     "metadata": {},
     "output_type": "execute_result"
    }
   ],
   "source": [
    "import pandas as pd\n",
    "df = pd.read_csv(\"AAPL.csv\", parse_dates=[\"Date\"], index_col=\"Date\")\n",
    "df.head(5)"
   ]
  },
  {
   "cell_type": "code",
   "execution_count": 9,
   "metadata": {},
   "outputs": [
    {
     "data": {
      "text/plain": [
       "'C:\\\\Users\\\\Krish Tomar\\\\Downloads\\\\spring-hibernate-source-code-v26'"
      ]
     },
     "execution_count": 9,
     "metadata": {},
     "output_type": "execute_result"
    }
   ],
   "source": [
    "pwd"
   ]
  },
  {
   "cell_type": "code",
   "execution_count": 27,
   "metadata": {},
   "outputs": [
    {
     "data": {
      "text/plain": [
       "<matplotlib.axes._subplots.AxesSubplot at 0x2752b72aba8>"
      ]
     },
     "execution_count": 27,
     "metadata": {},
     "output_type": "execute_result"
    },
    {
     "data": {
      "image/png": "[encoded data removed]",
      "text/plain": [
       "<Figure size 432x288 with 1 Axes>"
      ]
     },
     "metadata": {
      "needs_background": "light"
     },
     "output_type": "display_data"
    }
   ],
   "source": [
    "%matplotlib inline\n",
    "df.Close.resample('W').mean().plot(kind=\"bar\")"
   ]
  },
  {
   "cell_type": "code",
   "execution_count": null,
   "metadata": {},
   "outputs": [],
   "source": []
  }
 ],
 "metadata": {
  "kernelspec": {
   "display_name": "Python 3",
   "language": "python",
   "name": "python3"
  },
  "language_info": {
   "codemirror_mode": {
    "name": "ipython",
    "version": 3
   },
   "file_extension": ".py",
   "mimetype": "text/x-python",
   "name": "python",
   "nbconvert_exporter": "python",
   "pygments_lexer": "ipython3",
   "version": "3.7.1"
  }
 },
 "nbformat": 4,
 "nbformat_minor": 2
}
